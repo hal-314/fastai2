{
 "cells": [
  {
   "cell_type": "code",
   "execution_count": null,
   "metadata": {},
   "outputs": [],
   "source": [
    "#default_exp callback.bs_finder"
   ]
  },
  {
   "cell_type": "code",
   "execution_count": null,
   "metadata": {},
   "outputs": [],
   "source": [
    "#export\n",
    "from fastai2.basics import *"
   ]
  },
  {
   "cell_type": "code",
   "execution_count": null,
   "metadata": {},
   "outputs": [],
   "source": [
    "from nbdev.showdoc import *"
   ]
  },
  {
   "cell_type": "markdown",
   "metadata": {},
   "source": [
    "# Batch size finder callback\n",
    "> Callback to apply [An Empirical Model of Large-Batch Training](https://arxiv.org/pdf/1812.06162.pdf) to find the optimal batch size to minimaze the training time. "
   ]
  },
  {
   "cell_type": "markdown",
   "metadata": {},
   "source": [
    "Be aware that this batch size  may not be a the best one to minimize the validation loss. From the paper:\n",
    "> Some papers have reported a “generalizaion gap” in which large batch sizes lead to good training loss but cause a degradation in test loss, apparently unrelated to overfitting. \n",
    "\n",
    "Althought, also from the paper:\n",
    "> ... but recent work has found no evidence of a generalization gap when hyperparameters are properly tuned.\n",
    "\n",
    "See section 2.4 \"Assumptions and Caveats\" from the research paper for more caveats of this method. \n"
   ]
  },
  {
   "cell_type": "markdown",
   "metadata": {},
   "source": [
    "Helper functions"
   ]
  },
  {
   "cell_type": "code",
   "execution_count": null,
   "metadata": {},
   "outputs": [],
   "source": [
    "#export\n",
    "# Linear combination for the moving average\n",
    "def _lin_comb(v1, v2, beta): return beta*v1 + (1-beta)*v2\n",
    "\n",
    "\n",
    "def _ema_with_debias(avg, beta, yi, i):\n",
    "    \"Exponential moving average with debiasing\"\n",
    "    if avg is None: avg=0\n",
    "    avg = _lin_comb(avg, yi, beta)\n",
    "    return avg, avg/(1-beta**(i+1))\n",
    "\n",
    "\n",
    "def _get_flatten_grads(model):\n",
    "    parameters = L(model.parameters())\n",
    "    grads = [param.grad.flatten().view(-1,1) for param in parameters if not type(param.grad) == type(None)]\n",
    "    grad = torch.cat(grads)\n",
    "    return grad    "
   ]
  },
  {
   "cell_type": "markdown",
   "metadata": {},
   "source": [
    "The callback itself"
   ]
  },
  {
   "cell_type": "code",
   "execution_count": null,
   "metadata": {},
   "outputs": [],
   "source": [
    "#export\n",
    "class BSFinder(Callback):\n",
    "    \"A `Callback` that implements \\\"An Empirical Model of Large-Batch Training\\\" (https://arxiv.org/abs/1812.06162)\"\n",
    "    run_after=Recorder\n",
    "    \n",
    "    def __init__(self, num_it:int=None, n_batch=5, beta=0.99, simulate_multi_gpus=True): \n",
    "        store_attr(self, 'num_it, n_batch, beta, simulate_multi_gpus')\n",
    "\n",
    "    def begin_fit(self):\n",
    "        # Save original model\n",
    "        self.learn.save('_tmp')\n",
    "        \n",
    "        if not self.num_it: self.num_it = len(self.dls.train) * (self.n_batch if self.simulate_multi_gpus else 1)\n",
    "        \n",
    "        self.running_scale = None\n",
    "        self.running_noise = None\n",
    "        \n",
    "        # Use python list instead L fastai list as torch.cat doesn't understand the former\n",
    "        self.stored_grads = []\n",
    "\n",
    "        # Here, we will store the results\n",
    "        self.stats = L()\n",
    "        self.count=0\n",
    "\n",
    "    def begin_validate(self): raise CancelValidException()\n",
    "                \n",
    "    def after_backward(self):  \n",
    "        if self.train_iter >= self.num_it: raise CancelFitException()\n",
    "               \n",
    "        # Get gradients and store them\n",
    "        self.stored_grads.append(_get_flatten_grads(self.model))\n",
    "        \n",
    "        self.count += 1\n",
    "        if self.count != len(self.stored_grads):\n",
    "            breakpoint()\n",
    "\n",
    "        if self.simulate_multi_gpus and len(self.stored_grads) < self.n_batch: \n",
    "            self.opt.zero_grad() # Zero gradients to avoid acumulate them between batches\n",
    "            #print('a', self.count, self.train_iter, learn.model.embeds[0].weight[0][:3].tolist())\n",
    "            raise CancelBatchException() #skip weight update\n",
    "        \n",
    "        if len(self.stored_grads) == self.n_batch: \n",
    "            self.count=0\n",
    "            #print('b', self.count, self.train_iter, learn.model.embeds[0].weight[0][:3].tolist())\n",
    "            # We have enough batches to compute Simple Noise Scale ratio.\n",
    "            \n",
    "            # We concatenate the batches and empty the buffer\n",
    "            stored_grads = torch.cat(self.stored_grads, dim=1)\n",
    "            self.stored_grads.clear()\n",
    "            \n",
    "            acc_grads = stored_grads.mean(dim = 1)\n",
    "        \n",
    "            # The original implementation uses .mean() although in the original article didn't do it. However, averaging g_big and g_small doesn't affect to noise_scale ratio \n",
    "            if self.simulate_multi_gpus: g_small = (stored_grads ** 2).sum(dim=0).mean() \n",
    "            else: g_small = (stored_grads[:,-1] ** 2).sum() # .mean()\n",
    "                \n",
    "            # print((stored_grads ** 2).sum(dim=0).mean().item(), (stored_grads[:,-1] ** 2).sum().item(), (stored_grads ** 2).sum(dim=0).tolist())\n",
    "            \n",
    "            g_big = (acc_grads ** 2).sum() # .mean()\n",
    "            \n",
    "            bs = find_bs(self.yb) # or self.dls.train.bs\n",
    "            b_small, b_big = bs, bs * self.n_batch\n",
    "        \n",
    "            noise = (b_big * g_big - b_small * g_small) / (b_big - b_small)\n",
    "            scale = (g_small - g_big) / ((1 / b_small) - (1 / b_big))\n",
    "\n",
    "            self.running_scale, scale = _ema_with_debias(self.running_scale,self.beta,scale,self.iter)\n",
    "            self.running_noise, noise = _ema_with_debias(self.running_noise,self.beta,noise,self.iter)\n",
    "\n",
    "            scale = scale.item()\n",
    "            noise = noise.item()\n",
    "            noise_scale = (scale / noise)\n",
    "            \n",
    "            # Save results\n",
    "            self.stats.append(dict(n_iter=(len(self.stats)) * (1 if self.simulate_multi_gpus else self.n_batch),\n",
    "                                   noise=noise, scale=scale, noise_scale=noise_scale))\n",
    "        \n",
    "    def after_fit(self):\n",
    "        if self.train_iter < self.num_it: warn(f\"Fitting was too short to complete all expectediterations. Please, increase the number of epochs\")\n",
    "            \n",
    "        tmp_f = self.path/self.model_dir/'_tmp.pth'\n",
    "        if tmp_f.exists():\n",
    "            self.learn.load('_tmp')\n",
    "            os.remove(tmp_f)\n",
    "        \n",
    "        if hasattr(self.learn, 'recorder'): \n",
    "            # index = pd.Index(torch.arange(1, len(self.stats)+1)*self.n_batch, name='n_iter')\n",
    "            df = pd.DataFrame(self.stats)#, index=index)\n",
    "            df.set_index('n_iter', inplace=True)\n",
    "            self.recorder.bs_find_stats = df\n",
    "    \n",
    "    _docs = {\"begin_fit\": \"Initialize container for search results and auxiliary variables and save the model\",\n",
    "             \"after_fit\": \"Record hyper-parameters of this batch and potentially stop training\",\n",
    "             \"after_backward\": \"Store gradients and compute Simple Noise Scale\",\n",
    "             \"begin_validate\": \"Skip the validation part of training\"}\n",
    "        "
   ]
  },
  {
   "cell_type": "code",
   "execution_count": null,
   "metadata": {},
   "outputs": [],
   "source": [
    "add_docs(BSFinder, **BSFinder._docs)"
   ]
  },
  {
   "cell_type": "code",
   "execution_count": null,
   "metadata": {},
   "outputs": [
    {
     "data": {
      "text/markdown": [
       "<h4 id=\"BSFinder.begin_fit\" class=\"doc_header\"><code>BSFinder.begin_fit</code><a href=\"__main__.py#L9\" class=\"source_link\" style=\"float:right\">[source]</a></h4>\n",
       "\n",
       "> <code>BSFinder.begin_fit</code>()\n",
       "\n",
       "Initialize container for search results and auxiliary variables and save the model"
      ],
      "text/plain": [
       "<IPython.core.display.Markdown object>"
      ]
     },
     "metadata": {},
     "output_type": "display_data"
    }
   ],
   "source": [
    "show_doc(BSFinder.begin_fit)"
   ]
  },
  {
   "cell_type": "code",
   "execution_count": null,
   "metadata": {},
   "outputs": [
    {
     "data": {
      "text/markdown": [
       "<h4 id=\"BSFinder.after_fit\" class=\"doc_header\"><code>BSFinder.after_fit</code><a href=\"__main__.py#L78\" class=\"source_link\" style=\"float:right\">[source]</a></h4>\n",
       "\n",
       "> <code>BSFinder.after_fit</code>()\n",
       "\n",
       "Record hyper-parameters of this batch and potentially stop training"
      ],
      "text/plain": [
       "<IPython.core.display.Markdown object>"
      ]
     },
     "metadata": {},
     "output_type": "display_data"
    }
   ],
   "source": [
    "show_doc(BSFinder.after_fit)"
   ]
  },
  {
   "cell_type": "code",
   "execution_count": null,
   "metadata": {},
   "outputs": [
    {
     "data": {
      "text/markdown": [
       "<h4 id=\"BSFinder.after_backward\" class=\"doc_header\"><code>BSFinder.after_backward</code><a href=\"__main__.py#L27\" class=\"source_link\" style=\"float:right\">[source]</a></h4>\n",
       "\n",
       "> <code>BSFinder.after_backward</code>()\n",
       "\n",
       "Store gradients and compute Simple Noise Scale"
      ],
      "text/plain": [
       "<IPython.core.display.Markdown object>"
      ]
     },
     "metadata": {},
     "output_type": "display_data"
    }
   ],
   "source": [
    "show_doc(BSFinder.after_backward)"
   ]
  },
  {
   "cell_type": "code",
   "execution_count": null,
   "metadata": {},
   "outputs": [
    {
     "data": {
      "text/markdown": [
       "<h4 id=\"BSFinder.begin_validate\" class=\"doc_header\"><code>BSFinder.begin_validate</code><a href=\"__main__.py#L25\" class=\"source_link\" style=\"float:right\">[source]</a></h4>\n",
       "\n",
       "> <code>BSFinder.begin_validate</code>()\n",
       "\n",
       "Skip the validation part of training"
      ],
      "text/plain": [
       "<IPython.core.display.Markdown object>"
      ]
     },
     "metadata": {},
     "output_type": "display_data"
    }
   ],
   "source": [
    "show_doc(BSFinder.begin_validate)"
   ]
  },
  {
   "cell_type": "markdown",
   "metadata": {},
   "source": [
    "Methods for `Recorder` and `Learner` classes related to `BSFinder` callback. "
   ]
  },
  {
   "cell_type": "code",
   "execution_count": null,
   "metadata": {},
   "outputs": [],
   "source": [
    "#export\n",
    "@patch\n",
    "def plot_bs_find(self:Recorder):\n",
    "    \"Plot the result of an BS Finder test (won't work if you didn't do `learn.bs_find()` before)\"\n",
    "    fig, ax = plt.subplots(1,1)\n",
    "    stats = self.bs_find_stats\n",
    "    ax.plot(stats.index, stats.noise_scale)\n",
    "    ax.set_ylabel(\"Simple Noise Scale\")\n",
    "    ax.set_xlabel(\"# iteration\")"
   ]
  },
  {
   "cell_type": "code",
   "execution_count": null,
   "metadata": {},
   "outputs": [],
   "source": [
    "#export\n",
    "@delegates(BSFinder)\n",
    "@patch\n",
    "def bs_find(self:Learner, lr, num_it=None, n_batch=5, simulate_multi_gpus=True, show_plot=True, **kwargs):\n",
    "    \"\"\"\n",
    "    Launch a mock training to find a good batch size to minimaze training time. \n",
    "    However, it may not be a good batch size to minimize the validation loss. \n",
    "    \n",
    "    A good batch size is where the Simple Noise Scale converge ignoring the small growing trend \n",
    "    with the number of iterations if exists. The optimal batch size is about an order the magnitud\n",
    "    where Simple Noise scale converge. Typically,  the optimial batch size in image classification \n",
    "    problems will be 2-3 times lower where \n",
    "    \"\"\"  \n",
    "    num_it = num_it if num_it else len(self.dls.train)\n",
    "    num_it *= n_batch if simulate_multi_gpus else 1\n",
    "    n_epoch = num_it//len(self.dls.train)\n",
    "    cb=BSFinder(num_it=num_it, n_batch=n_batch, simulate_multi_gpus=simulate_multi_gpus, **kwargs)\n",
    "    with self.no_logging(): self.fit(n_epoch, lr, cbs=cb)\n",
    "    if show_plot: self.recorder.plot_bs_find()"
   ]
  },
  {
   "cell_type": "code",
   "execution_count": null,
   "metadata": {},
   "outputs": [
    {
     "data": {
      "text/markdown": [
       "<h2 id=\"BSFinder\" class=\"doc_header\"><code>class</code> <code>BSFinder</code><a href=\"\" class=\"source_link\" style=\"float:right\">[source]</a></h2>\n",
       "\n",
       "> <code>BSFinder</code>(**`num_it`**:`int`=*`None`*, **`n_batch`**=*`5`*, **`beta`**=*`0.99`*, **`simulate_multi_gpus`**=*`True`*) :: [`Callback`](/callback.core#Callback)\n",
       "\n",
       "A [`Callback`](/callback.core#Callback) that implements \"An Empirical Model of Large-Batch Training\" (https://arxiv.org/abs/1812.06162)"
      ],
      "text/plain": [
       "<IPython.core.display.Markdown object>"
      ]
     },
     "metadata": {},
     "output_type": "display_data"
    }
   ],
   "source": [
    "show_doc(BSFinder)"
   ]
  },
  {
   "cell_type": "markdown",
   "metadata": {},
   "source": [
    "`num_it` is the number of batches you want to process. It can be set to `None` and it will automatically train during one epoch (or `n_batch` if `simulate_multi_gpus` is set to `True`). `n_batch` is the number of batches you want to store before computing the Simple Noise Scale. 5 to 20 seems to work well across different tasks.\n",
    "\n",
    "`beta` is the beta parameter for an exponential moving average to compute the sum of variances, and the scale of the gradient. If the plot is too irregular, try increasing to 0.999 or more if needed, or increase the `n_batch` parameter.\n",
    "\n",
    "`simulate_multi_gpus` controls if multi GPU setup is simulated with `n_batch` gpus to match with the original research paper implementation. The multi GPU setup is done by running `n_batch` batches without updating the model weights. Setting it to `False` use [DanyWind aproximation](https://towardsdatascience.com/implementing-a-batch-size-finder-in-fastai-how-to-get-a-4x-speedup-with-better-generalization-813d686f6bdf). It's faster but numerically more inestable and finds a Simple Noise Scale smaller than the original Simple Noise Scale. "
   ]
  },
  {
   "cell_type": "markdown",
   "metadata": {},
   "source": [
    "## ¿How to select a good the batch size with `BSFinder` to speed up the training?"
   ]
  },
  {
   "cell_type": "markdown",
   "metadata": {},
   "source": [
    "1. First, let's quickly create the `dls` where we can use a very big batch size. Here, it doesn't matter which batch size we use\n",
    "2. Second, find a good learning rate with `Learner.lr_find`.\n",
    "3. Third, find a good batch size with `Learner.bs_find`. **Remember** that this batch size is optimized for training speed but **not** necessarily to minimaze validation error. Regardless, it gives you a reference to the max batch size to use.\n",
    "4. Fourth, recreate `dls` with the batch size\n",
    "5. Fifth, find again a good learning rate with `Learner.lr_find` as usually the best lr depends on the batch size.  "
   ]
  },
  {
   "cell_type": "code",
   "execution_count": null,
   "metadata": {},
   "outputs": [],
   "source": [
    "from fastai2.tabular.all import *"
   ]
  },
  {
   "cell_type": "markdown",
   "metadata": {},
   "source": [
    "Create the `dls`"
   ]
  },
  {
   "cell_type": "code",
   "execution_count": null,
   "metadata": {},
   "outputs": [],
   "source": [
    "path = untar_data(URLs.ADULT_SAMPLE)\n",
    "df = pd.read_csv(path/'adult.csv')\n",
    "\n",
    "cat_names = ['workclass', 'education', 'marital-status', 'occupation', 'relationship', 'race']\n",
    "cont_names = ['age', 'fnlwgt', 'education-num']\n",
    "\n",
    "procs = [Categorify, FillMissing, Normalize]\n",
    "y_names = 'salary'\n",
    "y_block = CategoryBlock()"
   ]
  },
  {
   "cell_type": "code",
   "execution_count": null,
   "metadata": {},
   "outputs": [],
   "source": [
    "to = TabularPandas(df, procs=procs, cat_names=cat_names, cont_names=cont_names,\n",
    "                   y_names=y_names, y_block=CategoryBlock(), splits=RandomSplitter()(range_of(df)))"
   ]
  },
  {
   "cell_type": "code",
   "execution_count": null,
   "metadata": {},
   "outputs": [],
   "source": [
    "dls = to.dataloaders()"
   ]
  },
  {
   "cell_type": "code",
   "execution_count": null,
   "metadata": {},
   "outputs": [
    {
     "data": {
      "text/html": [
       "<table border=\"1\" class=\"dataframe\">\n",
       "  <thead>\n",
       "    <tr style=\"text-align: right;\">\n",
       "      <th></th>\n",
       "      <th>workclass</th>\n",
       "      <th>education</th>\n",
       "      <th>marital-status</th>\n",
       "      <th>occupation</th>\n",
       "      <th>relationship</th>\n",
       "      <th>race</th>\n",
       "      <th>education-num_na</th>\n",
       "      <th>age</th>\n",
       "      <th>fnlwgt</th>\n",
       "      <th>education-num</th>\n",
       "      <th>salary</th>\n",
       "    </tr>\n",
       "  </thead>\n",
       "  <tbody>\n",
       "    <tr>\n",
       "      <th>0</th>\n",
       "      <td>Federal-gov</td>\n",
       "      <td>Some-college</td>\n",
       "      <td>Married-civ-spouse</td>\n",
       "      <td>Adm-clerical</td>\n",
       "      <td>Husband</td>\n",
       "      <td>White</td>\n",
       "      <td>False</td>\n",
       "      <td>61.000000</td>\n",
       "      <td>136786.999691</td>\n",
       "      <td>10.0</td>\n",
       "      <td>&gt;=50k</td>\n",
       "    </tr>\n",
       "    <tr>\n",
       "      <th>1</th>\n",
       "      <td>Private</td>\n",
       "      <td>HS-grad</td>\n",
       "      <td>Widowed</td>\n",
       "      <td>Other-service</td>\n",
       "      <td>Unmarried</td>\n",
       "      <td>White</td>\n",
       "      <td>False</td>\n",
       "      <td>42.000000</td>\n",
       "      <td>153160.001283</td>\n",
       "      <td>9.0</td>\n",
       "      <td>&lt;50k</td>\n",
       "    </tr>\n",
       "    <tr>\n",
       "      <th>2</th>\n",
       "      <td>State-gov</td>\n",
       "      <td>Bachelors</td>\n",
       "      <td>Married-civ-spouse</td>\n",
       "      <td>Exec-managerial</td>\n",
       "      <td>Husband</td>\n",
       "      <td>White</td>\n",
       "      <td>False</td>\n",
       "      <td>44.000000</td>\n",
       "      <td>175696.000411</td>\n",
       "      <td>13.0</td>\n",
       "      <td>&gt;=50k</td>\n",
       "    </tr>\n",
       "    <tr>\n",
       "      <th>3</th>\n",
       "      <td>Private</td>\n",
       "      <td>Bachelors</td>\n",
       "      <td>Separated</td>\n",
       "      <td>Adm-clerical</td>\n",
       "      <td>Unmarried</td>\n",
       "      <td>Black</td>\n",
       "      <td>False</td>\n",
       "      <td>40.000000</td>\n",
       "      <td>289403.002071</td>\n",
       "      <td>13.0</td>\n",
       "      <td>&lt;50k</td>\n",
       "    </tr>\n",
       "    <tr>\n",
       "      <th>4</th>\n",
       "      <td>Private</td>\n",
       "      <td>Bachelors</td>\n",
       "      <td>Divorced</td>\n",
       "      <td>Prof-specialty</td>\n",
       "      <td>Unmarried</td>\n",
       "      <td>White</td>\n",
       "      <td>False</td>\n",
       "      <td>54.999999</td>\n",
       "      <td>80167.004111</td>\n",
       "      <td>13.0</td>\n",
       "      <td>&lt;50k</td>\n",
       "    </tr>\n",
       "    <tr>\n",
       "      <th>5</th>\n",
       "      <td>Private</td>\n",
       "      <td>7th-8th</td>\n",
       "      <td>Married-civ-spouse</td>\n",
       "      <td>Craft-repair</td>\n",
       "      <td>Husband</td>\n",
       "      <td>White</td>\n",
       "      <td>False</td>\n",
       "      <td>25.000000</td>\n",
       "      <td>294400.002268</td>\n",
       "      <td>4.0</td>\n",
       "      <td>&lt;50k</td>\n",
       "    </tr>\n",
       "    <tr>\n",
       "      <th>6</th>\n",
       "      <td>Private</td>\n",
       "      <td>HS-grad</td>\n",
       "      <td>Married-civ-spouse</td>\n",
       "      <td>Handlers-cleaners</td>\n",
       "      <td>Husband</td>\n",
       "      <td>Black</td>\n",
       "      <td>False</td>\n",
       "      <td>43.000000</td>\n",
       "      <td>477983.007414</td>\n",
       "      <td>9.0</td>\n",
       "      <td>&lt;50k</td>\n",
       "    </tr>\n",
       "    <tr>\n",
       "      <th>7</th>\n",
       "      <td>Private</td>\n",
       "      <td>Masters</td>\n",
       "      <td>Never-married</td>\n",
       "      <td>Prof-specialty</td>\n",
       "      <td>Not-in-family</td>\n",
       "      <td>White</td>\n",
       "      <td>False</td>\n",
       "      <td>30.000000</td>\n",
       "      <td>426431.006606</td>\n",
       "      <td>14.0</td>\n",
       "      <td>&gt;=50k</td>\n",
       "    </tr>\n",
       "    <tr>\n",
       "      <th>8</th>\n",
       "      <td>Local-gov</td>\n",
       "      <td>Masters</td>\n",
       "      <td>Married-civ-spouse</td>\n",
       "      <td>Prof-specialty</td>\n",
       "      <td>Husband</td>\n",
       "      <td>White</td>\n",
       "      <td>False</td>\n",
       "      <td>51.000000</td>\n",
       "      <td>108435.000619</td>\n",
       "      <td>14.0</td>\n",
       "      <td>&gt;=50k</td>\n",
       "    </tr>\n",
       "    <tr>\n",
       "      <th>9</th>\n",
       "      <td>Private</td>\n",
       "      <td>Some-college</td>\n",
       "      <td>Never-married</td>\n",
       "      <td>Sales</td>\n",
       "      <td>Own-child</td>\n",
       "      <td>White</td>\n",
       "      <td>False</td>\n",
       "      <td>19.000001</td>\n",
       "      <td>389142.998699</td>\n",
       "      <td>10.0</td>\n",
       "      <td>&lt;50k</td>\n",
       "    </tr>\n",
       "  </tbody>\n",
       "</table>"
      ],
      "text/plain": [
       "<IPython.core.display.HTML object>"
      ]
     },
     "metadata": {},
     "output_type": "display_data"
    }
   ],
   "source": [
    "dls.show_batch()"
   ]
  },
  {
   "cell_type": "markdown",
   "metadata": {},
   "source": [
    "The default batch size is:"
   ]
  },
  {
   "cell_type": "code",
   "execution_count": null,
   "metadata": {},
   "outputs": [
    {
     "data": {
      "text/plain": [
       "64"
      ]
     },
     "execution_count": null,
     "metadata": {},
     "output_type": "execute_result"
    }
   ],
   "source": [
    "dls.bs"
   ]
  },
  {
   "cell_type": "markdown",
   "metadata": {},
   "source": [
    "Find a good learning rate"
   ]
  },
  {
   "cell_type": "code",
   "execution_count": null,
   "metadata": {},
   "outputs": [],
   "source": [
    "learn = tabular_learner(dls, [200,100], metrics=accuracy)"
   ]
  },
  {
   "cell_type": "code",
   "execution_count": null,
   "metadata": {},
   "outputs": [
    {
     "data": {
      "text/html": [],
      "text/plain": [
       "<IPython.core.display.HTML object>"
      ]
     },
     "metadata": {},
     "output_type": "display_data"
    },
    {
     "data": {
      "image/png": "[encoded data removed]",
      "text/plain": [
       "<Figure size 432x288 with 1 Axes>"
      ]
     },
     "metadata": {
      "needs_background": "light"
     },
     "output_type": "display_data"
    }
   ],
   "source": [
    "learn.lr_find(show_plot=False)\n",
    "learn.recorder.plot_lr_find(skip_end=10)"
   ]
  },
  {
   "cell_type": "markdown",
   "metadata": {},
   "source": [
    "Find a good batch size."
   ]
  },
  {
   "cell_type": "code",
   "execution_count": null,
   "metadata": {},
   "outputs": [
    {
     "data": {
      "text/html": [],
      "text/plain": [
       "<IPython.core.display.HTML object>"
      ]
     },
     "metadata": {},
     "output_type": "display_data"
    },
    {
     "data": {
      "image/png": "[encoded data removed]",
      "text/plain": [
       "<Figure size 432x288 with 1 Axes>"
      ]
     },
     "metadata": {
      "needs_background": "light"
     },
     "output_type": "display_data"
    }
   ],
   "source": [
    "learn.bs_find(1e-3)"
   ]
  },
  {
   "cell_type": "markdown",
   "metadata": {},
   "source": [
    "You can also access in the recorder with `Learner.recorder.plot_bs_find()` or access to the raw stats with `Learner.recorder.bs_find_stats`. Here we only show the first rows:"
   ]
  },
  {
   "cell_type": "code",
   "execution_count": null,
   "metadata": {},
   "outputs": [
    {
     "data": {
      "text/html": [
       "<div>\n",
       "<style scoped>\n",
       "    .dataframe tbody tr th:only-of-type {\n",
       "        vertical-align: middle;\n",
       "    }\n",
       "\n",
       "    .dataframe tbody tr th {\n",
       "        vertical-align: top;\n",
       "    }\n",
       "\n",
       "    .dataframe thead th {\n",
       "        text-align: right;\n",
       "    }\n",
       "</style>\n",
       "<table border=\"1\" class=\"dataframe\">\n",
       "  <thead>\n",
       "    <tr style=\"text-align: right;\">\n",
       "      <th></th>\n",
       "      <th>noise</th>\n",
       "      <th>scale</th>\n",
       "      <th>noise_scale</th>\n",
       "    </tr>\n",
       "    <tr>\n",
       "      <th>n_iter</th>\n",
       "      <th></th>\n",
       "      <th></th>\n",
       "      <th></th>\n",
       "    </tr>\n",
       "  </thead>\n",
       "  <tbody>\n",
       "    <tr>\n",
       "      <th>0</th>\n",
       "      <td>0.967152</td>\n",
       "      <td>95.029655</td>\n",
       "      <td>98.257166</td>\n",
       "    </tr>\n",
       "    <tr>\n",
       "      <th>1</th>\n",
       "      <td>0.748730</td>\n",
       "      <td>95.985123</td>\n",
       "      <td>128.197203</td>\n",
       "    </tr>\n",
       "    <tr>\n",
       "      <th>2</th>\n",
       "      <td>0.671574</td>\n",
       "      <td>85.072830</td>\n",
       "      <td>126.676711</td>\n",
       "    </tr>\n",
       "    <tr>\n",
       "      <th>3</th>\n",
       "      <td>0.564016</td>\n",
       "      <td>84.955147</td>\n",
       "      <td>150.625408</td>\n",
       "    </tr>\n",
       "    <tr>\n",
       "      <th>4</th>\n",
       "      <td>0.494141</td>\n",
       "      <td>86.296661</td>\n",
       "      <td>174.639852</td>\n",
       "    </tr>\n",
       "  </tbody>\n",
       "</table>\n",
       "</div>"
      ],
      "text/plain": [
       "           noise      scale  noise_scale\n",
       "n_iter                                  \n",
       "0       0.967152  95.029655    98.257166\n",
       "1       0.748730  95.985123   128.197203\n",
       "2       0.671574  85.072830   126.676711\n",
       "3       0.564016  84.955147   150.625408\n",
       "4       0.494141  86.296661   174.639852"
      ]
     },
     "execution_count": null,
     "metadata": {},
     "output_type": "execute_result"
    }
   ],
   "source": [
    "learn.recorder.bs_find_stats.head()"
   ]
  },
  {
   "cell_type": "markdown",
   "metadata": {},
   "source": [
    "A good batch size is were Simple Noise Scale converge. It's expected to exist a small growing trend with the number of iterations. In case that Simple Noise Scale doesn't converge, try to increase `n_batch`. "
   ]
  },
  {
   "cell_type": "markdown",
   "metadata": {},
   "source": [
    "In this case, Simple Noise Scale has converged around 2000 or 2500. So a good batch size will be 2048 as they are powers of 2. Again, remember that this batch size is optimized for training speed but **not** to necessarily minimaze validation error. So, it gives you a reference to the max batch size to use."
   ]
  },
  {
   "cell_type": "markdown",
   "metadata": {},
   "source": [
    "Now, we recreate the dataloaders with the good batch size."
   ]
  },
  {
   "cell_type": "code",
   "execution_count": null,
   "metadata": {},
   "outputs": [],
   "source": [
    "learn.dls = to.dataloaders(bs=2048)"
   ]
  },
  {
   "cell_type": "markdown",
   "metadata": {},
   "source": [
    "Lastly, find a good learning rate for this batch size."
   ]
  },
  {
   "cell_type": "code",
   "execution_count": null,
   "metadata": {},
   "outputs": [
    {
     "data": {
      "text/html": [],
      "text/plain": [
       "<IPython.core.display.HTML object>"
      ]
     },
     "metadata": {},
     "output_type": "display_data"
    },
    {
     "data": {
      "text/plain": [
       "SuggestedLRs(lr_min=0.025118863582611083, lr_steep=0.0030199517495930195)"
      ]
     },
     "execution_count": null,
     "metadata": {},
     "output_type": "execute_result"
    },
    {
     "data": {
      "image/png": "[encoded data removed]",
      "text/plain": [
       "<Figure size 432x288 with 1 Axes>"
      ]
     },
     "metadata": {
      "needs_background": "light"
     },
     "output_type": "display_data"
    }
   ],
   "source": [
    "learn.lr_find()"
   ]
  },
  {
   "cell_type": "markdown",
   "metadata": {},
   "source": [
    "See some comparisons in the training speed. "
   ]
  },
  {
   "cell_type": "code",
   "execution_count": null,
   "metadata": {},
   "outputs": [
    {
     "data": {
      "text/html": [
       "<table border=\"1\" class=\"dataframe\">\n",
       "  <thead>\n",
       "    <tr style=\"text-align: left;\">\n",
       "      <th>epoch</th>\n",
       "      <th>train_loss</th>\n",
       "      <th>valid_loss</th>\n",
       "      <th>accuracy</th>\n",
       "      <th>time</th>\n",
       "    </tr>\n",
       "  </thead>\n",
       "  <tbody>\n",
       "    <tr>\n",
       "      <td>0</td>\n",
       "      <td>0.558374</td>\n",
       "      <td>0.625199</td>\n",
       "      <td>0.766585</td>\n",
       "      <td>00:00</td>\n",
       "    </tr>\n",
       "    <tr>\n",
       "      <td>1</td>\n",
       "      <td>0.462899</td>\n",
       "      <td>0.516987</td>\n",
       "      <td>0.776413</td>\n",
       "      <td>00:00</td>\n",
       "    </tr>\n",
       "    <tr>\n",
       "      <td>2</td>\n",
       "      <td>0.419676</td>\n",
       "      <td>0.467384</td>\n",
       "      <td>0.794533</td>\n",
       "      <td>00:00</td>\n",
       "    </tr>\n",
       "    <tr>\n",
       "      <td>3</td>\n",
       "      <td>0.396523</td>\n",
       "      <td>0.439086</td>\n",
       "      <td>0.810197</td>\n",
       "      <td>00:00</td>\n",
       "    </tr>\n",
       "    <tr>\n",
       "      <td>4</td>\n",
       "      <td>0.382978</td>\n",
       "      <td>0.411233</td>\n",
       "      <td>0.826167</td>\n",
       "      <td>00:00</td>\n",
       "    </tr>\n",
       "  </tbody>\n",
       "</table>"
      ],
      "text/plain": [
       "<IPython.core.display.HTML object>"
      ]
     },
     "metadata": {},
     "output_type": "display_data"
    }
   ],
   "source": [
    "learn.fit_one_cycle(5, 1e-3)"
   ]
  },
  {
   "cell_type": "markdown",
   "metadata": {},
   "source": [
    "With the optimized batch size, training is almost instantaneous."
   ]
  },
  {
   "cell_type": "markdown",
   "metadata": {},
   "source": [
    "In contrast, with default batch size:"
   ]
  },
  {
   "cell_type": "code",
   "execution_count": null,
   "metadata": {},
   "outputs": [
    {
     "data": {
      "text/html": [
       "<table border=\"1\" class=\"dataframe\">\n",
       "  <thead>\n",
       "    <tr style=\"text-align: left;\">\n",
       "      <th>epoch</th>\n",
       "      <th>train_loss</th>\n",
       "      <th>valid_loss</th>\n",
       "      <th>accuracy</th>\n",
       "      <th>time</th>\n",
       "    </tr>\n",
       "  </thead>\n",
       "  <tbody>\n",
       "    <tr>\n",
       "      <td>0</td>\n",
       "      <td>0.369608</td>\n",
       "      <td>0.358464</td>\n",
       "      <td>0.833692</td>\n",
       "      <td>00:04</td>\n",
       "    </tr>\n",
       "    <tr>\n",
       "      <td>1</td>\n",
       "      <td>0.347242</td>\n",
       "      <td>0.358608</td>\n",
       "      <td>0.835074</td>\n",
       "      <td>00:04</td>\n",
       "    </tr>\n",
       "    <tr>\n",
       "      <td>2</td>\n",
       "      <td>0.347959</td>\n",
       "      <td>0.351834</td>\n",
       "      <td>0.839220</td>\n",
       "      <td>00:04</td>\n",
       "    </tr>\n",
       "    <tr>\n",
       "      <td>3</td>\n",
       "      <td>0.343089</td>\n",
       "      <td>0.346979</td>\n",
       "      <td>0.842291</td>\n",
       "      <td>00:04</td>\n",
       "    </tr>\n",
       "    <tr>\n",
       "      <td>4</td>\n",
       "      <td>0.333152</td>\n",
       "      <td>0.347157</td>\n",
       "      <td>0.842138</td>\n",
       "      <td>00:04</td>\n",
       "    </tr>\n",
       "  </tbody>\n",
       "</table>"
      ],
      "text/plain": [
       "<IPython.core.display.HTML object>"
      ]
     },
     "metadata": {},
     "output_type": "display_data"
    }
   ],
   "source": [
    "learn.dls = dls\n",
    "learn.fit_one_cycle(5, 1e-3)"
   ]
  },
  {
   "cell_type": "markdown",
   "metadata": {},
   "source": [
    "We have an infinite speed increase :D"
   ]
  },
  {
   "cell_type": "markdown",
   "metadata": {},
   "source": [
    "Just remember, this batch size is optimized for training speed but may not minimaze the validation error. Regardless, it gives you a reference to the max batch size to use."
   ]
  }
 ],
 "metadata": {
  "kernelspec": {
   "display_name": "Python 3",
   "language": "python",
   "name": "python3"
  }
 },
 "nbformat": 4,
 "nbformat_minor": 4
}
